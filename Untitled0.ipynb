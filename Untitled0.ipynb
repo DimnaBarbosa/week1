{
  "nbformat": 4,
  "nbformat_minor": 0,
  "metadata": {
    "colab": {
      "name": "Untitled0.ipynb",
      "provenance": []
    },
    "kernelspec": {
      "name": "python3",
      "display_name": "Python 3"
    }
  },
  "cells": [
    {
      "cell_type": "code",
      "metadata": {
        "id": "kJTCo1afoduQ",
        "colab_type": "code",
        "colab": {}
      },
      "source": [
        "import matplotlib.pyplot as plt\n",
        "import numpy as np\n",
        "import seaborn as sns\n",
        "from numpy import random\n",
        "from scipy.stats import expon, binom, poisson, norm"
      ],
      "execution_count": null,
      "outputs": []
    },
    {
      "cell_type": "markdown",
      "metadata": {
        "id": "Ew7kqDa3oc5t",
        "colab_type": "text"
      },
      "source": [
        "\n",
        "1. PROBABILITY RELATIONS\n",
        "From Bayes' theorem P(A/B)=((P(B/A)*P(A))/P(B))"
      ]
    },
    {
      "cell_type": "code",
      "metadata": {
        "id": "fGMZMYgifX1o",
        "colab_type": "code",
        "colab": {
          "base_uri": "https://localhost:8080/",
          "height": 88
        },
        "outputId": "37d10e7b-9010-412a-8694-ac55202fc72d"
      },
      "source": [
        "P_A = 0.01\n",
        "P_A_Complement = 1 - P_A\n",
        "P_B_A = 0.99\n",
        "P_B_complement_A = 0.01\n",
        "P_B_A_complement = 0.05\n",
        "P_B_complement_A_complement = 0.95\n",
        "\n",
        "# Probability of positive test (positive tests + accidental positive results)\n",
        "P_B = (P_A * P_B_A) + (P_A_Complement * P_B_A_complement)\n",
        "# Probability of correct positive test (true positive tests/positive tests)\n",
        "P_A_B = (P_A * P_B_A) / P_B\n",
        "percentage = P_A_B * 100\n",
        "print('Probability of correct positive test: ', str(P_A_B), 'or ', str(round(percentage, 2)), '%')"
      ],
      "execution_count": 6,
      "outputs": [
        {
          "output_type": "stream",
          "text": [
            "Probability of correct positive test:  0.16666666666666669 or  16.67 %\n"
          ],
          "name": "stdout"
        },
        {
          "output_type": "stream",
          "text": [
            "/usr/local/lib/python3.6/dist-packages/statsmodels/tools/_testing.py:19: FutureWarning: pandas.util.testing is deprecated. Use the functions in the public API at pandas.testing instead.\n",
            "  import pandas.util.testing as tm\n"
          ],
          "name": "stderr"
        }
      ]
    },
    {
      "cell_type": "markdown",
      "metadata": {
        "id": "4M2XZIV6fdfD",
        "colab_type": "text"
      },
      "source": [
        "Probability of correct positive test:  0.16666666666666669 or  16.67 %\n"
      ]
    },
    {
      "cell_type": "code",
      "metadata": {
        "id": "V4EZeFCNfsP_",
        "colab_type": "code",
        "colab": {
          "base_uri": "https://localhost:8080/",
          "height": 51
        },
        "outputId": "8448d065-9897-4418-abea-6ebf5a745a00"
      },
      "source": [
        "# we look for P(A) if P(B) > 50. We increase P(A) in very small steps of 0.00001\n",
        "while P_B <= 0.5:\n",
        "    P_A = P_A + 0.00001\n",
        "    P_B = ((P_A * P_B_A) + ((1 - P_A) * P_B_A_complement))\n",
        "print('At least', (P_A*100), \"% of the population should have the antibodies\")\n",
        "print(\" \")"
      ],
      "execution_count": 7,
      "outputs": [
        {
          "output_type": "stream",
          "text": [
            "At least 47.87300000003382 % of the population should have the antibodies\n",
            " \n"
          ],
          "name": "stdout"
        }
      ]
    },
    {
      "cell_type": "markdown",
      "metadata": {
        "id": "Erj_KnS5f1dv",
        "colab_type": "text"
      },
      "source": [
        "At least 47.87300000003382 % of the population should have the antibodies"
      ]
    },
    {
      "cell_type": "code",
      "metadata": {
        "id": "GkFf96Cff56h",
        "colab_type": "code",
        "colab": {
          "base_uri": "https://localhost:8080/",
          "height": 295
        },
        "outputId": "1544ae98-bd92-4a67-fa45-ce8723c07454"
      },
      "source": [
        "x = np.linspace(0.0, 1.0, num=5)\n",
        "y = (x * 0.99) + ((1 - x) * 0.05)\n",
        "plt.plot(x, y, color='red')\n",
        "plt.xlabel('population with antibodies')\n",
        "plt.ylabel('positive tests')\n",
        "plt.title('Amount of positive tests in proportion to amount of people with antibodies')\n",
        "plt.grid()\n",
        "plt.show()"
      ],
      "execution_count": 8,
      "outputs": [
        {
          "output_type": "display_data",
          "data": {
            "image/png": "[encoded data removed]",
            "text/plain": [
              "<Figure size 432x288 with 1 Axes>"
            ]
          },
          "metadata": {
            "tags": [],
            "needs_background": "light"
          }
        }
      ]
    },
    {
      "cell_type": "markdown",
      "metadata": {
        "id": "R0YZlRmOgCFm",
        "colab_type": "text"
      },
      "source": [
        "The graph shows positive tests vs population with antibodies. We can roughly see that indeed with 47.8% (0.478) of population with antibodies corresponds to 50% positive tests. Number of positive test is positively proportional to number of people with antibodies. "
      ]
    },
    {
      "cell_type": "markdown",
      "metadata": {
        "id": "hg7RY2pIoS31",
        "colab_type": "text"
      },
      "source": [
        "2. PROBABILITY DISTRIBUTIONS\n",
        "\n",
        "All graphs show the discrete and continuous distributions\n"
      ]
    },
    {
      "cell_type": "markdown",
      "metadata": {
        "id": "GhQWvNh_ovfT",
        "colab_type": "text"
      },
      "source": [
        "Normal or Gaussian distribution:\n",
        "mean (loc), SD (scale), array of normally distributed data with size = 1000"
      ]
    },
    {
      "cell_type": "code",
      "metadata": {
        "id": "Sr9sN8T2o4eR",
        "colab_type": "code",
        "colab": {
          "base_uri": "https://localhost:8080/",
          "height": 279
        },
        "outputId": "cd0cbd29-81bc-48b8-984a-f6f9f91d8147"
      },
      "source": [
        "data_gauss = random.normal(loc=5, size=1000)\n",
        "sns.distplot(data_gauss, hist=True, kde=True, color='skyblue')\n",
        "plt.xlim(0, 10)\n",
        "plt.xlabel('Gaussian distribution')\n",
        "plt.ylabel('Frequency')\n",
        "plt.show()"
      ],
      "execution_count": 9,
      "outputs": [
        {
          "output_type": "display_data",
          "data": {
            "image/png": "[encoded data removed]",
            "text/plain": [
              "<Figure size 432x288 with 1 Axes>"
            ]
          },
          "metadata": {
            "tags": [],
            "needs_background": "light"
          }
        }
      ]
    },
    {
      "cell_type": "markdown",
      "metadata": {
        "id": "O2U6_8K0o76K",
        "colab_type": "text"
      },
      "source": [
        "Binomial distribution:\n",
        "n is number of trials, p is the probability of occurence, and size is the data size"
      ]
    },
    {
      "cell_type": "code",
      "metadata": {
        "id": "JafqIHeApIQZ",
        "colab_type": "code",
        "colab": {
          "base_uri": "https://localhost:8080/",
          "height": 279
        },
        "outputId": "a84ebd0e-cf9d-4da8-afe1-106eb83b77db"
      },
      "source": [
        "data_bin = random.binomial(n=10, p=0.5, size=1000)\n",
        "sns.distplot(data_bin, hist=True, kde=True, color='green')\n",
        "plt.xlim(0, 10)\n",
        "plt.xlabel('Binomial distribution')\n",
        "plt.ylabel('Frequency')\n",
        "plt.show()"
      ],
      "execution_count": 10,
      "outputs": [
        {
          "output_type": "display_data",
          "data": {
            "image/png": "[encoded data removed]",
            "text/plain": [
              "<Figure size 432x288 with 1 Axes>"
            ]
          },
          "metadata": {
            "tags": [],
            "needs_background": "light"
          }
        }
      ]
    },
    {
      "cell_type": "markdown",
      "metadata": {
        "id": "yaKyZOTLpLRO",
        "colab_type": "text"
      },
      "source": [
        "Poisson distribution: \n",
        "lam is occurrence of events in interval, size is number of array elements"
      ]
    },
    {
      "cell_type": "code",
      "metadata": {
        "id": "1S70brNapV0h",
        "colab_type": "code",
        "colab": {
          "base_uri": "https://localhost:8080/",
          "height": 279
        },
        "outputId": "8e8bf4ab-d06a-4885-bc5d-a28ea1ca3d64"
      },
      "source": [
        "data_poiss = random.poisson(lam=2.5, size=1000)\n",
        "sns.distplot(data_poiss, kde=True, color='purple')\n",
        "plt.xlim(0, 10)\n",
        "plt.xlabel('Poisson distribution')\n",
        "plt.ylabel('Frequency')\n",
        "plt.show()"
      ],
      "execution_count": 11,
      "outputs": [
        {
          "output_type": "display_data",
          "data": {
            "image/png": "[encoded data removed]",
            "text/plain": [
              "<Figure size 432x288 with 1 Axes>"
            ]
          },
          "metadata": {
            "tags": [],
            "needs_background": "light"
          }
        }
      ]
    },
    {
      "cell_type": "markdown",
      "metadata": {
        "id": "CKo4TZjApgCw",
        "colab_type": "text"
      },
      "source": [
        "Exponential distribution"
      ]
    },
    {
      "cell_type": "code",
      "metadata": {
        "id": "kLw0S_Tapi17",
        "colab_type": "code",
        "colab": {
          "base_uri": "https://localhost:8080/",
          "height": 279
        },
        "outputId": "0d30e900-c99d-4d64-ee40-566790bb623a"
      },
      "source": [
        "data_exp = random.exponential(size=1000)\n",
        "sns.distplot(data_exp, hist=True, color='coral')\n",
        "plt.xlim(0, 10)\n",
        "plt.xlabel('Exponential distribution')\n",
        "plt.ylabel('Frequency')\n",
        "plt.show()"
      ],
      "execution_count": 12,
      "outputs": [
        {
          "output_type": "display_data",
          "data": {
            "image/png": "[encoded data removed]",
            "text/plain": [
              "<Figure size 432x288 with 1 Axes>"
            ]
          },
          "metadata": {
            "tags": [],
            "needs_background": "light"
          }
        }
      ]
    },
    {
      "cell_type": "markdown",
      "metadata": {
        "id": "TH8aqgMYpnMH",
        "colab_type": "text"
      },
      "source": [
        "Reference for distributions: https://www.w3schools.com/python/numpy_random_normal.asp"
      ]
    },
    {
      "cell_type": "markdown",
      "metadata": {
        "id": "coLfxB2-prfB",
        "colab_type": "text"
      },
      "source": [
        "Follow up task\n"
      ]
    },
    {
      "cell_type": "code",
      "metadata": {
        "id": "w9x3fTowpw1I",
        "colab_type": "code",
        "colab": {
          "base_uri": "https://localhost:8080/",
          "height": 153
        },
        "outputId": "0f59baae-1e6b-4529-ff09-a3e3b6969581"
      },
      "source": [
        "# define function that gives you the sum of probabilities between 2 values\n",
        "size = 1000\n",
        "\n",
        "\n",
        "def prob_interv(distribution, dist_type, low_bound, top_bound):\n",
        "    hist, bins = np.histogram(dist_type, bins=[low_bound, top_bound])\n",
        "    z = sum(hist) / size\n",
        "    print('Total of the', distribution, 'in range', bins, ':', hist, 'events and a probability of', z)\n",
        "    print(\" \")\n",
        "    \n",
        "    \n",
        "prob_interv(\"Gaussian Distribution\", data_gauss, 0, 2)\n",
        "prob_interv(\"Binomial Distribution\", data_bin, 0, 2)\n",
        "prob_interv(\"Poisson Distribution\", data_poiss, 0, 2)\n",
        "prob_interv(\"Exponential Distribution\", data_exp, 0, 2)"
      ],
      "execution_count": 13,
      "outputs": [
        {
          "output_type": "stream",
          "text": [
            "Total of the Gaussian Distribution in range [0 2] : [6] events and a probability of 0.006\n",
            " \n",
            "Total of the Binomial Distribution in range [0 2] : [57] events and a probability of 0.057\n",
            " \n",
            "Total of the Poisson Distribution in range [0 2] : [539] events and a probability of 0.539\n",
            " \n",
            "Total of the Exponential Distribution in range [0 2] : [863] events and a probability of 0.863\n",
            " \n"
          ],
          "name": "stdout"
        }
      ]
    },
    {
      "cell_type": "markdown",
      "metadata": {
        "id": "umgKXQjop0yt",
        "colab_type": "text"
      },
      "source": [
        "The results are consistent with the type of distribution, for instance, in the 0-2 interval, gaussian distribution has no or very very few events (less than 3%), binomial has few events (less than 7%), poisson has around half of the total events (50% or more), and exponential has most of the events in this interval (above 80%). The script was run multiple times to give a general range of probabilities for each distribution (i.e. less than 3% ...)\n"
      ]
    },
    {
      "cell_type": "markdown",
      "metadata": {
        "id": "bHkx3KNpp9Wr",
        "colab_type": "text"
      },
      "source": [
        "3. Expected values\n",
        "\n",
        "\n",
        "Define function that will return the expectation value for the discrete distributions: ∑𝑢(𝑥𝑖)𝑝(𝑥𝑖)\n",
        "first get frequency of each value. Then get probability for each occurrence. In the\n",
        "formula we plug in each x * its corresponding probability and addition everything."
      ]
    },
    {
      "cell_type": "code",
      "metadata": {
        "id": "ScrVvlCnqZvD",
        "colab_type": "code",
        "colab": {
          "base_uri": "https://localhost:8080/",
          "height": 442
        },
        "outputId": "985299a7-0e2d-49d1-f2c4-df0df3554062"
      },
      "source": [
        "def Expected_val_discrete(distribution, data, size):\n",
        "    data_list, prob_xi = [], []\n",
        "    f, exp = 0, 0\n",
        "    for i in range(size):\n",
        "        data_list.append(data[i])\n",
        "        for k in range(size):\n",
        "            if data_list[i] == data[k]:\n",
        "                f += 1\n",
        "        prob_xi.append(f)\n",
        "        f = 0\n",
        "\n",
        "    occurance = np.sum(prob_xi)\n",
        "    for y in range(len(prob_xi)):\n",
        "        prob = prob_xi[y] / occurance\n",
        "        prob_xi[y] = prob\n",
        "    for x in range(len(data_list)):\n",
        "        exp += data_list[i] * prob_xi[i]\n",
        "    print('Expectation value for', distribution, ':', exp)\n",
        "    print('\\n')\n",
        "    return exp\n",
        "\n",
        "# get the expectation value for the continuous distributions as the average of the data\n",
        "def expectation_cont(distribution, data, size):\n",
        "    avg = sum(data)/size\n",
        "    print('Expectation value for a continuous', distribution, ':', avg)\n",
        "    print('\\n')\n",
        "    return float(avg)\n",
        "\n",
        "\n",
        "\n",
        "Expected_val_discrete(\"a discrete Gaussian Distribution\", data_gauss, 1000)\n",
        "Expected_val_discrete(\"a discrete Binomial Distribution\", data_bin, 1000)\n",
        "Expected_val_discrete(\"a discrete Poisson Distribution\", data_poiss, 1000)\n",
        "Expected_val_discrete(\"a discrete Exponential Distribution\", data_exp, 1000)\n",
        "\n",
        "expectation_cont(\"Gaussian Distribution\", data_gauss, 1000)\n",
        "expectation_cont(\"Binomial Distribution\", data_bin, 1000)\n",
        "expectation_cont(\"Poisson Distribution\", data_poiss, 1000)\n",
        "expectation_cont(\"Exponential Distribution\", data_exp, 1000)"
      ],
      "execution_count": 14,
      "outputs": [
        {
          "output_type": "stream",
          "text": [
            "Expectation value for a discrete Gaussian Distribution : 3.907610238954449\n",
            "\n",
            "\n",
            "Expectation value for a discrete Binomial Distribution : 2.153217193582811\n",
            "\n",
            "\n",
            "Expectation value for a discrete Poisson Distribution : 1.2730014423707454\n",
            "\n",
            "\n",
            "Expectation value for a discrete Exponential Distribution : 0.979990062046542\n",
            "\n",
            "\n",
            "Expectation value for a continuous Gaussian Distribution : 4.953828576103607\n",
            "\n",
            "\n",
            "Expectation value for a continuous Binomial Distribution : 4.99\n",
            "\n",
            "\n",
            "Expectation value for a continuous Poisson Distribution : 2.468\n",
            "\n",
            "\n",
            "Expectation value for a continuous Exponential Distribution : 1.0050673729818156\n",
            "\n",
            "\n"
          ],
          "name": "stdout"
        },
        {
          "output_type": "execute_result",
          "data": {
            "text/plain": [
              "1.0050673729818156"
            ]
          },
          "metadata": {
            "tags": []
          },
          "execution_count": 14
        }
      ]
    },
    {
      "cell_type": "markdown",
      "metadata": {
        "id": "bVm03J4Xqjya",
        "colab_type": "text"
      },
      "source": [
        "The expectation values for both types of function are relatively close for the distributions that have more bins (normal and exponential, and differ for those that have few bins (binomial, poisson). Furthermore, the continuous results are not so reliable as we just averaged the data even though the formula integrates x*f(x). The reason I averaged the data was that I could not get f(x) for the data. This might explain why the expectation values for both kind of data vary so much \n",
        "\n",
        "References for expectation value: https://www.geeksforgeeks.org/expectation-expected-value-array/.\n",
        "The method to calculate the expected values of discrete distributions was very kindly shared with me by Diyon: https://github.com/Diyon335/PRA3500/blob/master/Week1/final_Week1.ipynb"
      ]
    },
    {
      "cell_type": "markdown",
      "metadata": {
        "id": "Fc45i7RxrHnJ",
        "colab_type": "text"
      },
      "source": [
        "Follow up task: deal or no deal\n",
        "\n",
        "\n",
        "To make it easier we just make a list of 20 prizes corresponding to 20 briefcases. This script does not simulate the entire game i.e. there's no bank, deals, no deals. It only simulates the selection of a box to keep and 3 boxes to open"
      ]
    },
    {
      "cell_type": "code",
      "metadata": {
        "id": "5zB_M7r5rRj_",
        "colab_type": "code",
        "colab": {
          "base_uri": "https://localhost:8080/",
          "height": 119
        },
        "outputId": "e9e58891-d378-417b-cd79-c6cc97b870d7"
      },
      "source": [
        "Prizes = [0.01, 5, 10, 25, 100, 300, 500, 800, 1000, 5000, 10000, 25000, 50000, 75000, 100000, 200000, 300000, 500000, 750000, 1000000]\n",
        "# the prizes/briefcases are randomly shuffled\n",
        "random.shuffle(Prizes)\n",
        "# contestant chooses briefcase 12\n",
        "chose_a_briefcase = 12\n",
        "Your_briefcase = Prizes[chose_a_briefcase-1]\n",
        "Prizes.pop(chose_a_briefcase-1)\n",
        "RemovedPrizes = []\n",
        "# choose 3 random boxes and remove them\n",
        "for i in range(3):\n",
        "    randombox = random.randint(0, len(Prizes))\n",
        "    RemovedPrizes.append(Prizes[randombox])\n",
        "    Prizes.pop(randombox)\n",
        "\n",
        "Prizes.append(Your_briefcase)\n",
        "Expectedvalue = Expected_val_discrete(\"the chosen briefcase\", Prizes, 17)\n",
        "print(\"Your Briefcase contains: \", Your_briefcase, '€')\n",
        "print(\"The expected value was: \", Expectedvalue, '€')\n",
        "print(\"The Removed prizes were: \", RemovedPrizes, '€')"
      ],
      "execution_count": 15,
      "outputs": [
        {
          "output_type": "stream",
          "text": [
            "Expectation value for the chosen briefcase : 9.999999999999998\n",
            "\n",
            "\n",
            "Your Briefcase contains:  10 €\n",
            "The expected value was:  9.999999999999998 €\n",
            "The Removed prizes were:  [0.01, 1000, 100] €\n"
          ],
          "name": "stdout"
        }
      ]
    },
    {
      "cell_type": "markdown",
      "metadata": {
        "id": "H8EIdl1YrXoS",
        "colab_type": "text"
      },
      "source": [
        "The value in the briefcase is predicted with very high accuracy with the expected value. "
      ]
    }
  ]
}